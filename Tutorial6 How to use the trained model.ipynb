{
 "cells": [
  {
   "cell_type": "code",
   "execution_count": 1,
   "metadata": {},
   "outputs": [],
   "source": [
    "#@author: Kunlun Wang \n",
    "#created on 7/9/2020\n",
    "\n",
    "import cv2\n",
    "import tensorflow as tf\n",
    "from PIL import Image  \n",
    "\n",
    "from IPython.display import Image\n",
    "from IPython.display import Image, display\n",
    "\n",
    "# will use this to convert prediction num to string values \n",
    "CATEGORIES = [\"active\", \"dormant\"]\n",
    "\n",
    "\n",
    "def prepare(filepath):\n",
    "    # define size to be 50*50 \n",
    "    IMG_SIZE = 50  \n",
    "    # read in the image, convert to grayscale\n",
    "    img_array = cv2.imread(filepath, cv2.IMREAD_GRAYSCALE)  \n",
    "    #normalize\n",
    "    img_array = img_array/255.0\n",
    "    # resize image to match model's expected sizing\n",
    "    new_array = cv2.resize(img_array, (IMG_SIZE, IMG_SIZE))  \n",
    "    \n",
    "    # return the new shape\n",
    "    return new_array.reshape(-1, IMG_SIZE, IMG_SIZE, 1)  "
   ]
  },
  {
   "cell_type": "code",
   "execution_count": 2,
   "metadata": {},
   "outputs": [],
   "source": [
    "#load the model\n",
    "model = tf.keras.models.load_model(\"64x3-CNN.model\")"
   ]
  },
  {
   "cell_type": "code",
   "execution_count": 3,
   "metadata": {
    "scrolled": true
   },
   "outputs": [
    {
     "data": {
      "image/png": "[encoded data removed]",
      "text/plain": [
       "<IPython.core.display.Image object>"
      ]
     },
     "metadata": {},
     "output_type": "display_data"
    },
    {
     "name": "stdout",
     "output_type": "stream",
     "text": [
      "[[0.66973436]]\n",
      "active\n"
     ]
    }
   ],
   "source": [
    "# display the image that we want to use the model to predict\n",
    "display(Image(filename='593.png'))\n",
    "prediction = model.predict([prepare('593.png')])\n",
    "\n",
    "print(prediction)  # will be a list in a list.\n",
    "print(CATEGORIES[int(prediction[0][0])])\n",
    "\n",
    "# Nice correct prediction! \n",
    "# So now we can use this model to do more fancy stuff!"
   ]
  },
  {
   "cell_type": "code",
   "execution_count": null,
   "metadata": {},
   "outputs": [],
   "source": []
  }
 ],
 "metadata": {
  "kernelspec": {
   "display_name": "Python 3.7 (tensorflow)",
   "language": "python",
   "name": "tensorflow"
  },
  "language_info": {
   "codemirror_mode": {
    "name": "ipython",
    "version": 3
   },
   "file_extension": ".py",
   "mimetype": "text/x-python",
   "name": "python",
   "nbconvert_exporter": "python",
   "pygments_lexer": "ipython3",
   "version": "3.7.7"
  }
 },
 "nbformat": 4,
 "nbformat_minor": 4
}
