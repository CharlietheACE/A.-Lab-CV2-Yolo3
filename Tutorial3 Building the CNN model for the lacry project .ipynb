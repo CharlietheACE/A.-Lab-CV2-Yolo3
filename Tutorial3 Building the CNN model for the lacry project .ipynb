{
 "cells": [
  {
   "cell_type": "code",
   "execution_count": 1,
   "metadata": {},
   "outputs": [],
   "source": [
    "#@author: Kunlun Wang\n",
    "#created on 7/9/2020\n",
    "\n",
    "import tensorflow as tf\n",
    "from tensorflow.keras.datasets import cifar10\n",
    "from tensorflow.keras.preprocessing.image import ImageDataGenerator\n",
    "from tensorflow.keras.models import Sequential\n",
    "from tensorflow.keras.layers import Dense, Dropout, Activation, Flatten\n",
    "from tensorflow.keras.layers import Conv2D, MaxPooling2D\n",
    "import numpy as np\n",
    "\n",
    "import pickle"
   ]
  },
  {
   "cell_type": "code",
   "execution_count": 2,
   "metadata": {},
   "outputs": [],
   "source": [
    "# Open the proprocessed data from last time\n",
    "\n",
    "# Remember that X is the feature set and y is the label set \n",
    "pickle_in = open(\"792020x.pickle\",\"rb\")\n",
    "X = pickle.load(pickle_in)\n",
    "\n",
    "pickle_in = open(\"792020y.pickle\",\"rb\")\n",
    "y = pickle.load(pickle_in)"
   ]
  },
  {
   "cell_type": "code",
   "execution_count": 3,
   "metadata": {},
   "outputs": [],
   "source": [
    "# We need to normalize the data first (see tensorflow/CNN tutorial)\n",
    "# recall that this is the pixel data --> min =0, max =255 \n",
    "X=np.array(X/255.0)\n",
    "y=np.array(y)"
   ]
  },
  {
   "cell_type": "code",
   "execution_count": 4,
   "metadata": {},
   "outputs": [],
   "source": [
    "# We'll be using the sequential type of model (see CNN tutorial)\n",
    "model = Sequential()"
   ]
  },
  {
   "cell_type": "code",
   "execution_count": 5,
   "metadata": {},
   "outputs": [],
   "source": [
    "# We can start with a convolution layer\n",
    "# The filter/kernel is 3*3 \n",
    "# To understand the below code, go through the CNN tutorial \n",
    "model.add(Conv2D(256, (3, 3), input_shape=X.shape[1:]))\n",
    "model.add(Activation('relu'))\n",
    "model.add(MaxPooling2D(pool_size=(2, 2)))"
   ]
  },
  {
   "cell_type": "code",
   "execution_count": 6,
   "metadata": {},
   "outputs": [],
   "source": [
    "# add another layer of convolution layer \n",
    "model.add(Conv2D(256, (3, 3)))\n",
    "model.add(Activation('relu'))\n",
    "model.add(MaxPooling2D(pool_size=(2, 2)))"
   ]
  },
  {
   "cell_type": "code",
   "execution_count": 7,
   "metadata": {},
   "outputs": [],
   "source": [
    "# this converts our 3D feature maps to 1D feature vectors\n",
    "# see CNN tutorial\n",
    "model.add(Flatten())  "
   ]
  },
  {
   "cell_type": "code",
   "execution_count": 8,
   "metadata": {},
   "outputs": [],
   "source": [
    "# add a final dense layer \n",
    "# hint: ‘Dense’ is a name for a Fully connected / linear layer in keras.\n",
    "model.add(Dense(64))"
   ]
  },
  {
   "cell_type": "code",
   "execution_count": 9,
   "metadata": {},
   "outputs": [],
   "source": [
    "# Here we add the output layer and the activation function \n",
    "# if you are not familar with \"sigmoid\" type of activation function, please refer to either the CNN tutoral \n",
    "# or Charlie's tutorial\n",
    "\n",
    "model.add(Dense(1))\n",
    "model.add(Activation('sigmoid'))"
   ]
  },
  {
   "cell_type": "code",
   "execution_count": 10,
   "metadata": {},
   "outputs": [],
   "source": [
    "# Now we can compile this model \n",
    "# The function of the below parameters are explained in either my tutorials or Charlie's \n",
    "model.compile(loss='binary_crossentropy',\n",
    "              optimizer='adam',\n",
    "              metrics=['accuracy'])"
   ]
  },
  {
   "cell_type": "code",
   "execution_count": 12,
   "metadata": {},
   "outputs": [
    {
     "name": "stdout",
     "output_type": "stream",
     "text": [
      "Train on 280 samples, validate on 120 samples\n",
      "Epoch 1/10\n",
      "280/280 [==============================] - 6s 21ms/sample - loss: 0.6905 - accuracy: 0.5464 - val_loss: 0.7102 - val_accuracy: 0.3917\n",
      "Epoch 2/10\n",
      "280/280 [==============================] - 6s 21ms/sample - loss: 0.6896 - accuracy: 0.5464 - val_loss: 0.7116 - val_accuracy: 0.3917\n",
      "Epoch 3/10\n",
      "280/280 [==============================] - 6s 21ms/sample - loss: 0.6888 - accuracy: 0.5464 - val_loss: 0.7197 - val_accuracy: 0.3917\n",
      "Epoch 4/10\n",
      "280/280 [==============================] - 6s 20ms/sample - loss: 0.6872 - accuracy: 0.5464 - val_loss: 0.7022 - val_accuracy: 0.3917\n",
      "Epoch 5/10\n",
      "280/280 [==============================] - 6s 21ms/sample - loss: 0.6862 - accuracy: 0.5464 - val_loss: 0.7084 - val_accuracy: 0.3917\n",
      "Epoch 6/10\n",
      "280/280 [==============================] - 6s 21ms/sample - loss: 0.6842 - accuracy: 0.5536 - val_loss: 0.6842 - val_accuracy: 0.5500\n",
      "Epoch 7/10\n",
      "280/280 [==============================] - 6s 21ms/sample - loss: 0.6829 - accuracy: 0.5786 - val_loss: 0.6990 - val_accuracy: 0.4833\n",
      "Epoch 8/10\n",
      "280/280 [==============================] - 6s 21ms/sample - loss: 0.6661 - accuracy: 0.6071 - val_loss: 0.6796 - val_accuracy: 0.5667\n",
      "Epoch 9/10\n",
      "280/280 [==============================] - 6s 20ms/sample - loss: 0.6618 - accuracy: 0.6321 - val_loss: 0.6944 - val_accuracy: 0.5333\n",
      "Epoch 10/10\n",
      "280/280 [==============================] - 6s 21ms/sample - loss: 0.6578 - accuracy: 0.5893 - val_loss: 0.6736 - val_accuracy: 0.5583\n"
     ]
    },
    {
     "data": {
      "text/plain": [
       "<tensorflow.python.keras.callbacks.History at 0x662aaac10>"
      ]
     },
     "execution_count": 12,
     "metadata": {},
     "output_type": "execute_result"
    }
   ],
   "source": [
    "# Now let's train this!! \n",
    "# The function of the below parameters are explained in either my tutorials or Charlie's \n",
    "model.fit(X, y, batch_size=32, epochs=10, validation_split=0.3)"
   ]
  },
  {
   "cell_type": "code",
   "execution_count": 13,
   "metadata": {},
   "outputs": [
    {
     "name": "stdout",
     "output_type": "stream",
     "text": [
      "Congrats on finishing this tutorial!\n"
     ]
    }
   ],
   "source": [
    "print(\"Congrats on finishing this tutorial!\")"
   ]
  },
  {
   "cell_type": "code",
   "execution_count": null,
   "metadata": {},
   "outputs": [],
   "source": []
  }
 ],
 "metadata": {
  "kernelspec": {
   "display_name": "Python 3.7 (tensorflow)",
   "language": "python",
   "name": "tensorflow"
  },
  "language_info": {
   "codemirror_mode": {
    "name": "ipython",
    "version": 3
   },
   "file_extension": ".py",
   "mimetype": "text/x-python",
   "name": "python",
   "nbconvert_exporter": "python",
   "pygments_lexer": "ipython3",
   "version": "3.7.7"
  }
 },
 "nbformat": 4,
 "nbformat_minor": 4
}
